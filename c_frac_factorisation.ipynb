{
 "cells": [
  {
   "cell_type": "code",
   "execution_count": 229,
   "metadata": {},
   "outputs": [],
   "source": [
    "import numpy as np"
   ]
  },
  {
   "cell_type": "code",
   "execution_count": 230,
   "metadata": {},
   "outputs": [],
   "source": [
    "def conv_sqrt_n(n, limit):  # return (limit) convergents of the square root of n A_i\n",
    "    ai = [0, 1]\n",
    "    a = int(np.floor(np.sqrt(n)))\n",
    "    t = float(np.sqrt(n) - a)\n",
    "\n",
    "    for i in range(2, limit + 2):\n",
    "        ai.append(a * ai[i-1] + ai[i-2])  # use recurrence A_i = a*A_i-1 + A_i-2 for convergents A\n",
    "        a = int(np.floor(1 / t))\n",
    "        t = float((1 / t) - a)\n",
    "    return ai[2:]  # exclude initiating values"
   ]
  },
  {
   "cell_type": "code",
   "execution_count": 231,
   "metadata": {},
   "outputs": [
    {
     "name": "stdout",
     "output_type": "stream",
     "text": [
      "[133, 134, 401, 1738, 3877, 13369, 17246, 47861, 65107, 178075]\n",
      "[23, 24, 47, 118, 165]\n"
     ]
    }
   ],
   "source": [
    "print(conv_sqrt_n(17873, 10))\n",
    "print(conv_sqrt_n(556, 5))"
   ]
  },
  {
   "cell_type": "markdown",
   "metadata": {},
   "source": [
    "Helpful functions: Legendre symbol, sieve prime test, set B of prime factors p with with n quadratic residue mod p and checking if a number is B-smooth, returning its prime powers from the B set."
   ]
  },
  {
   "cell_type": "code",
   "execution_count": 232,
   "metadata": {},
   "outputs": [],
   "source": [
    "def legendre(n, p): # legendre symbol (n/p)\n",
    "    if n % p == 0:\n",
    "        return 0\n",
    "    if n > p:\n",
    "        n = n % p\n",
    "    if n ** (int((p - 1) / 2)) % p == 1:\n",
    "        return 1\n",
    "    else:\n",
    "        return -1\n",
    "\n",
    "\n",
    "def smsieve(n):  # prime check with classic sieving\n",
    "    if n in [1, 2]:\n",
    "        return 1\n",
    "    for i in range(2, int(np.floor(np.sqrt(n))) + 1):\n",
    "        if n % i == 0:\n",
    "            return 0\n",
    "    return 1\n",
    "\n",
    "def Bset(k, n):  # construct the set of the first k primes p that have (n/p) = +1 together with -1\n",
    "    B = [-1]\n",
    "    p = 2\n",
    "    while k:\n",
    "        while legendre(n, p) != 1 or smsieve(p) != 1:\n",
    "            p += 1\n",
    "        B.append(p)\n",
    "        p += 1\n",
    "        k = k - 1\n",
    "    return B\n",
    "\n",
    "def Bfactors(n, B):  # for number n and set of primes B with -1 returns the factorisation and powers of n if n is\n",
    "                     # B-smooth and 0 if n is not B-smooth\n",
    "    if n < 0:\n",
    "        basepowers = [1]\n",
    "        n = int(n * -1)\n",
    "    else:\n",
    "        basepowers = [0]\n",
    "    B = B[1:]\n",
    "    for prime in B:\n",
    "        prime_power = 0\n",
    "        while n % prime == 0:\n",
    "            n = int(n / prime)\n",
    "            prime_power += 1\n",
    "        basepowers.append(prime_power)\n",
    "    if n == 1:\n",
    "        return basepowers\n",
    "    else:\n",
    "        return 0"
   ]
  },
  {
   "cell_type": "code",
   "execution_count": 233,
   "metadata": {},
   "outputs": [],
   "source": [
    "def least_res(a, n):\n",
    "    a = a % n\n",
    "    if a >= np.floor(n / 2):\n",
    "        a = a - n\n",
    "    return a"
   ]
  },
  {
   "cell_type": "code",
   "execution_count": 234,
   "metadata": {},
   "outputs": [
    {
     "name": "stdout",
     "output_type": "stream",
     "text": [
      "1\n",
      "[-1, 2, 7, 11, 17, 23, 29, 59]\n",
      "[0, 0, 0, 0, 0, 2, 0, 1]\n",
      "-6\n"
     ]
    }
   ],
   "source": [
    "print(legendre(9, 13))\n",
    "print(Bset(7, 34127))\n",
    "print(Bfactors(23 * 23 * 59, Bset(7, 34127)))\n",
    "print(least_res(27 + 33 * 16, 33))"
   ]
  },
  {
   "cell_type": "markdown",
   "metadata": {},
   "source": [
    "Next, we build the table with values A and Bfactors(least_res(A^2 mod n)) for (limit) convergents."
   ]
  },
  {
   "cell_type": "code",
   "execution_count": 235,
   "metadata": {},
   "outputs": [],
   "source": [
    "def conv_fact_table(n, B, convs):\n",
    "    table = []\n",
    "    for A in convs:\n",
    "        factored = Bfactors(least_res(A ** 2, n), B)\n",
    "        if factored != 0:\n",
    "            table.append([A, least_res(A ** 2, n), factored])\n",
    "    return table\n",
    "\n",
    "def split_table(table):  #  splits into two lists of A's and B factorisations\n",
    "    a = []\n",
    "    factors = []\n",
    "    for i in range(len(table)):\n",
    "        a.append(table[i][0])\n",
    "        factors.append(table[i][2])\n",
    "    return[a, factors]"
   ]
  },
  {
   "cell_type": "markdown",
   "metadata": {},
   "source": [
    "testifeven takes a list of factorisations base B and checks if they are congruent mod 2. halfpower builds the number v with halved powers from the factorisations."
   ]
  },
  {
   "cell_type": "code",
   "execution_count": 236,
   "metadata": {},
   "outputs": [],
   "source": [
    "def testifeven(l, B):  #  l is list of lists, B is set of primes with -1\n",
    "    for i in range(len(B)):\n",
    "        sumcol = 0\n",
    "        for j in range(len(l)):\n",
    "            sumcol += l[j][i]\n",
    "        if sumcol % 2 != 0:\n",
    "            return 0\n",
    "    return 1\n",
    "\n",
    "def halfpower(l, B):  #  l is list of lists, B is set of primes with -1\n",
    "    halvedpowers = 1\n",
    "    for i in range(len(B)):\n",
    "        sumcol = 0\n",
    "        for j in range(len(l)):\n",
    "            sumcol += l[j][i]\n",
    "        halvedpowers *= B[i] ** int(sumcol/2)\n",
    "    return halvedpowers"
   ]
  },
  {
   "cell_type": "code",
   "execution_count": 237,
   "metadata": {},
   "outputs": [
    {
     "name": "stdout",
     "output_type": "stream",
     "text": [
      "1\n",
      "180\n"
     ]
    }
   ],
   "source": [
    "print(testifeven([[1, 2, 4, 0, 0, 18], [1, 2, 4, 0, 0, 13], [0, 0, 0, 2, 0, 3]], [-1, 2, 3, 5, 7, 11]))\n",
    "print(halfpower([[0, 3, 2, 1], [0, 1, 2, 1]], [-1, 2, 3, 5]))  #  2^2 * 3^2 * 5^1"
   ]
  },
  {
   "cell_type": "markdown",
   "metadata": {},
   "source": [
    "For a list of lists l and number d we get the list of lists which have positions corresponding to 1's in binary representation of d. We will use this to get partitions of factored A^2 mod n and check their dependence mod 2. <br />",
    "For a list A of convergents A_i, mult returns the product of the A_i on positions i corresponding to 1's in  binary representation of d."
   ]
  },
  {
   "cell_type": "code",
   "execution_count": 238,
   "metadata": {},
   "outputs": [],
   "source": [
    "def partitions(l, d):\n",
    "    part = []\n",
    "    d = f\"{d:0{len(l)}b}\"\n",
    "    for i in range(len(d)):\n",
    "        if d[i] == \"1\":\n",
    "            part.append(l[i])\n",
    "    return part\n",
    "\n",
    "def mult(A, d):\n",
    "    mult = 1\n",
    "    d = f\"{d:0{len(A)}b}\"\n",
    "    for i in range(len(d)):\n",
    "        if d[i] == \"1\":\n",
    "            mult = mult * A[i]\n",
    "    return mult\n"
   ]
  },
  {
   "cell_type": "code",
   "execution_count": 239,
   "metadata": {},
   "outputs": [
    {
     "name": "stdout",
     "output_type": "stream",
     "text": [
      "[[0, 0, 1, 0, 1], [1, 0, 1, 1, 0], [1, 3, 0, 1, 0]]\n",
      "42\n"
     ]
    }
   ],
   "source": [
    "print(partitions([[1, 3, 0, 0, 1], [1, 3, 1, 0, 0], [1, 6, 0, 0, 0], [0, 0, 1, 0, 1], [1, 0, 1, 1, 0], [1, 3, 0, 1, 0]], 7))  # 000111\n",
    "print(mult([11, 21, 2, 6, 3, 7], 11))  # 001011, 2 * 3 * 7"
   ]
  },
  {
   "cell_type": "code",
   "execution_count": 240,
   "metadata": {},
   "outputs": [],
   "source": [
    "def sieve(convs, fac, B, n):\n",
    "    for d in range(2 ** len(convs)):\n",
    "        if len(partitions(fac, d)) >= 2 and testifeven(partitions(fac, d), B) == 1:\n",
    "                u = mult(convs, d) % n\n",
    "                v = halfpower(partitions(fac, d), B) % n\n",
    "                if np.gcd(u - v, n) > 1:\n",
    "                     return int(np.gcd(u - v, n))\n",
    "    return 0"
   ]
  },
  {
   "cell_type": "code",
   "execution_count": 241,
   "metadata": {},
   "outputs": [
    {
     "data": {
      "text/plain": [
       "293"
      ]
     },
     "execution_count": 241,
     "metadata": {},
     "output_type": "execute_result"
    }
   ],
   "source": [
    "sieve([133, 401, 3877, 13369, 17246, 65107], [[1, 3, 0, 0, 1], [1, 3, 1, 0, 0], [1, 6, 0, 0, 0], [0, 0, 1, 0, 1], [1, 0, 1, 1, 0], [1, 3, 0, 1, 0]], [-1, 2, 7, 11, 23], 17873)"
   ]
  },
  {
   "cell_type": "markdown",
   "metadata": {},
   "source": [
    "Description of the algorithm: <br />",
    "Step 1: Start with n, limit, k. n is the number to be factored, limit and k are limits set by us to measure the depth of sieving. <br />",
    "Step 2: Build the factor base B, that is the set of first k prime numbers p for which n is a quadratic residue mod p. <br />",
    "Step 3: Calculate convergents of sqrt(n) A_i for i up to limit. We don't need values of B's for the sieve. <br />",
    "Step 4: For each A_i calculate the value A_i^2 mod n and keep the numbers A_i for which A_i^2 can be factored with primes in B, together with these factorisations as vectors of powers of the primes. <br />",
    "Step 5: Check sets of vectors form a linearly dependent set mod 2 and keep the corresponding A_i's together with such sets. <br />",
    "Step 6: Form u as the product of these A_i's and v as the product of primes which appear in the factor base with their powers halved. <br />",
    "Step 7: Calculate gcd(u - v, n) in an attempt to find a factor of n. If gcd(u - v, n) = 1, repeat from Step 5 with another linearly dependent set."
   ]
  },
  {
   "cell_type": "code",
   "execution_count": 248,
   "metadata": {},
   "outputs": [],
   "source": [
    "def cont_frac(n, limit, k):  # limit: how many steps/convergents to look for   k: number of primes in B set\n",
    "    B = Bset(k, n)\n",
    "    convs = conv_sqrt_n(n, limit)\n",
    "    table = conv_fact_table(n, B, convs)\n",
    "    convs = split_table(table)[0]  #  \"good convergents\"\n",
    "    fac = split_table(table)[1]\n",
    "    factor = sieve(convs, fac, B, n)\n",
    "    if factor != 0:\n",
    "        return f'a factor of {n} is {factor}'\n",
    "    else:\n",
    "        return \"no factors found, try larger limit or k\"\n",
    "    "
   ]
  },
  {
   "cell_type": "code",
   "execution_count": 249,
   "metadata": {},
   "outputs": [
    {
     "name": "stdout",
     "output_type": "stream",
     "text": [
      "no factors found, try larger limit or k\n",
      "no factors found, try larger limit or k\n",
      "a factor of 17873 is 293\n",
      "a factor of 17873 is 61\n"
     ]
    }
   ],
   "source": [
    "print(cont_frac(17873, 3, 3))\n",
    "print(cont_frac(17873, 5, 5))\n",
    "print(cont_frac(17873, 10, 4))\n",
    "print(cont_frac(17873, 12, 5))\n",
    "\n"
   ]
  }
 ],
 "metadata": {
  "kernelspec": {
   "display_name": "Python 3",
   "language": "python",
   "name": "python3"
  },
  "language_info": {
   "codemirror_mode": {
    "name": "ipython",
    "version": 3
   },
   "file_extension": ".py",
   "mimetype": "text/x-python",
   "name": "python",
   "nbconvert_exporter": "python",
   "pygments_lexer": "ipython3",
   "version": "3.13.0"
  }
 },
 "nbformat": 4,
 "nbformat_minor": 2
}
