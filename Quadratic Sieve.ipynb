{
 "cells": [
  {
   "cell_type": "code",
   "execution_count": 56,
   "metadata": {
    "trusted": true
   },
   "outputs": [],
   "source": [
    "import numpy as np"
   ]
  },
  {
   "cell_type": "markdown",
   "metadata": {},
   "source": [
    "<p>Functions <strong>legendre</strong> and <strong>smsieve</strong> are basic functions for computing legendre symbol returning 0 if it is not defined +1 if n is quadratic residue mod p, -1 if not and a simple sieve prime test for small numbers respectively.</p>"
   ]
  },
  {
   "cell_type": "code",
   "execution_count": 57,
   "metadata": {
    "trusted": true
   },
   "outputs": [],
   "source": [
    "def legendre(n, p): # legendre symbol (n/p)\n",
    "    if n % p == 0:\n",
    "        return 0\n",
    "    if n > p:\n",
    "        n = n % p\n",
    "    if n ** (int((p - 1) / 2)) % p == 1:\n",
    "        return 1\n",
    "    else:\n",
    "        return -1\n",
    "\n",
    "\n",
    "def smsieve(n):  # prime check with classic sieving\n",
    "    if n in [1, 2]:\n",
    "        return 1\n",
    "    for i in range(2, int(np.floor(np.sqrt(n))) + 1):\n",
    "        if n % i == 0:\n",
    "            return 0\n",
    "    return 1"
   ]
  },
  {
   "cell_type": "code",
   "execution_count": 58,
   "metadata": {
    "trusted": true
   },
   "outputs": [
    {
     "name": "stdout",
     "output_type": "stream",
     "text": [
      "-1\n",
      "1 0\n"
     ]
    }
   ],
   "source": [
    "print(legendre(251, 3))\n",
    "print(smsieve(89), smsieve(244))"
   ]
  },
  {
   "cell_type": "markdown",
   "metadata": {},
   "source": [
    "<p>Function <strong>Bfactors</strong> takes integer n and set B of primes along with -1 and returns an array of the powers of primes in B or 0 if n cannot be factored using these primes. Function <strong>Bset</strong> builds the set B of first k primes p that have legendre symbol (n/p) for integer n, creating the sieve core.</p>"
   ]
  },
  {
   "cell_type": "code",
   "execution_count": 59,
   "metadata": {
    "trusted": true
   },
   "outputs": [],
   "source": [
    "def Bfactors(n, B):  # for number n and set of primes B with -1 returns the factorisation and powers of n if n is\n",
    "                     # B-smooth and 0 if n is not B-smooth\n",
    "    if n < 0:\n",
    "        basepowers = [1]\n",
    "        n = int(n * -1)\n",
    "    else:\n",
    "        basepowers = [0]\n",
    "    B = B[1:]\n",
    "    for prime in B:\n",
    "        prime_power = 0\n",
    "        while n % prime == 0:\n",
    "            n = int(n / prime)\n",
    "            prime_power += 1\n",
    "        basepowers.append(prime_power)\n",
    "    if n == 1:\n",
    "        return basepowers\n",
    "    else:\n",
    "        return 0\n",
    "\n",
    "\n",
    "def Bset(k, n):  # construct the set of the first k primes p that have (n/p) = +1 together with -1\n",
    "    B = [-1]\n",
    "    p = 2\n",
    "    while k:\n",
    "        while legendre(n, p) != 1 or smsieve(p) != 1:  # if the conditions are not met, got to next prime\n",
    "            p += 1\n",
    "        B.append(p)\n",
    "        p += 1\n",
    "        k = k - 1\n",
    "    return B"
   ]
  },
  {
   "cell_type": "code",
   "execution_count": 60,
   "metadata": {
    "trusted": true
   },
   "outputs": [
    {
     "name": "stdout",
     "output_type": "stream",
     "text": [
      "[0, 0, 2, 2, 2, 0]\n",
      "[0, 1]\n",
      "0\n"
     ]
    }
   ],
   "source": [
    "print(Bfactors(74529, [-1, 2, 3, 7, 13, 89]))\n",
    "print(Bfactors(23, [-1, 23]))\n",
    "print(Bfactors(122, [-1, 2, 13]))"
   ]
  },
  {
   "cell_type": "markdown",
   "metadata": {},
   "source": [
    "<p>The function <strong>testisiven</strong> takes a list of lists representing powers of B-smooth numbers and outputs 1 if they are linearly dependent mod 2 (the column-wise sum is even for each column) and 0 otherwise</p>"
   ]
  },
  {
   "cell_type": "code",
   "execution_count": 61,
   "metadata": {
    "trusted": true
   },
   "outputs": [],
   "source": [
    "def testifeven(l, B):  #  l is list of lists, B is set of primes with -1\n",
    "    for i in range(len(B)):\n",
    "        sumcol = 0\n",
    "        for j in range(len(l)):\n",
    "            sumcol += l[j][i]\n",
    "        if sumcol % 2 != 0:\n",
    "            return 0\n",
    "    return 1"
   ]
  },
  {
   "cell_type": "markdown",
   "metadata": {},
   "source": [
    "<p>Calculate the number obtained by halving the added prime powers column wise from the matrix modulo n(value v)</p>"
   ]
  },
  {
   "cell_type": "code",
   "execution_count": 62,
   "metadata": {
    "trusted": true
   },
   "outputs": [],
   "source": [
    "def halfpower(l, B, n):  #  l is list of lists, B is set of primes with -1\n",
    "    halvedpowers = 1\n",
    "    for i in range(len(B)):\n",
    "        sumcol = 0\n",
    "        for j in range(len(l)):\n",
    "            sumcol += l[j][i]\n",
    "        halvedpowers *= B[i] ** int(sumcol/2)\n",
    "    return halvedpowers % n"
   ]
  },
  {
   "cell_type": "code",
   "execution_count": 63,
   "metadata": {
    "trusted": true
   },
   "outputs": [
    {
     "name": "stdout",
     "output_type": "stream",
     "text": [
      "1377\n"
     ]
    }
   ],
   "source": [
    "print(halfpower([[0, 0, 2, 0, 1, 0, 0], [0, 0, 6, 0, 1, 0, 0]], [-1, 2, 3, 13, 17, 19, 29], 87463))"
   ]
  },
  {
   "cell_type": "markdown",
   "metadata": {},
   "source": [
    "<p>The function <strong>searchgcds</strong> for an amount of linearly dependent sets mod 2 within the rows of given matrix using binary counting i.e. count to 2^n and represent each number in binary then check if the corresponding combination. For example number 7 corresponds to 1011 meaning we check the 0th, 2nd and 3rd row. Then build u as the product of x + t's for each corresponding row in a solution, and v as the halved powers taken from adding those rows. Finally we find u - v as a candidate to do a gcd test with n and hence hope find a factor of n.</p>"
   ]
  },
  {
   "cell_type": "code",
   "execution_count": 64,
   "metadata": {
    "trusted": true
   },
   "outputs": [],
   "source": [
    "def searchgcds(n, factorpowerlist, xplust, B, bound):  # B only used for its length in testisiven function\n",
    "    nofrows = len(factorpowerlist)\n",
    "    gcds = []\n",
    "    for d in range(2 ** nofrows):\n",
    "        if bound == 0:\n",
    "            return gcds\n",
    "        c = f\"{d:0{nofrows}b}\"\n",
    "        settocheck = []  #  builds a set of rows\n",
    "        choice = []  #  chooses which rows are included and which are not\n",
    "        for i in range(len(c)):\n",
    "            if c[i] == '1':\n",
    "                choice.append(i)\n",
    "        u = 1\n",
    "        if len(choice) >= 2:  #  condition on how many rows we need\n",
    "            for r in choice:\n",
    "                settocheck.append(factorpowerlist[r])\n",
    "                u *= xplust[r]\n",
    "            if testifeven(settocheck, B) == 1:\n",
    "                v = halfpower(settocheck, B, n)\n",
    "                u %= n\n",
    "                if int(np.gcd(u - v, n)) != n and int(np.gcd(u - v, n)) != 1:\n",
    "                    gcds.append(int(np.gcd(u - v, n)))\n",
    "                    bound -= 1\n",
    "    return gcds"
   ]
  },
  {
   "cell_type": "markdown",
   "metadata": {},
   "source": [
    "<p>Setting up the factorisation: The integer n, bound of factors bound and the range of x are set by the user. The final output is a factor of n.</p>"
   ]
  },
  {
   "cell_type": "code",
   "execution_count": 65,
   "metadata": {
    "trusted": true
   },
   "outputs": [
    {
     "name": "stdout",
     "output_type": "stream",
     "text": [
      "Matrix with columns x, x + t where t is floor(sqrt(n)), and y(x) = (x + t)^2 - n:\n",
      "\n",
      "[[     -390671      -386491 149357812500]\n",
      " [     -390177      -385997 148976203428]\n",
      " [     -338796      -334616 111950386875]\n",
      " [     -218759      -214579  46026666660]\n",
      " [     -218241      -214061  45804631140]\n",
      " [     -213921      -209741  43973806500]\n",
      " [     -162989      -158809  25202817900]\n",
      " [      -97311       -93131   8655902580]\n",
      " [      -85013       -80833   6516493308]\n",
      " [      -84714       -80534   6468244575]\n",
      " [      -62954       -58774   3436902495]\n",
      " [      -57689       -53509   2845732500]\n",
      " [      -56195       -52015   2688079644]\n",
      " [      -50357       -46177   2114834748]\n",
      " [      -50058       -45878   2087310303]\n",
      " [      -49939       -45759   2076405500]\n",
      " [      -46879       -42699   1805724020]\n",
      " [      -40059       -35879   1269822060]\n",
      " [      -35176       -30996    943271435]\n",
      " [      -34989       -30809    931713900]\n",
      " [      -33585       -29405    847173444]\n",
      " [      -28296       -24116    564100875]\n",
      " [      -26892       -22712    498354363]\n",
      " [      -23939       -19759    372937500]\n",
      " [      -23021       -18841    337502700]\n",
      " [      -22921       -18741    333744500]\n",
      " [      -22314       -18134    311361375]\n",
      " [      -21029       -16849    266408220]\n",
      " [      -20223       -16043    239897268]\n",
      " [      -17739       -13559    166365900]\n",
      " [      -17646       -13466    163852575]\n",
      " [      -15671       -11491    114562500]\n",
      " [      -15439       -11259    109284500]\n",
      " [      -13346        -9166     66534975]\n",
      " [      -13174        -8994     63411455]\n",
      " [      -12471        -8291     51260100]\n",
      " [      -12241        -8061     47499140]\n",
      " [      -12005        -7825     43750044]\n",
      " [      -11621        -7441     37887900]\n",
      " [      -11583        -7403     37323828]\n",
      " [      -11160        -6980     31239819]\n",
      " [      -11019        -6839     29291340]\n",
      " [      -10709        -6529     25147260]\n",
      " [      -10611        -6431     23877180]\n",
      " [      -10595        -6415     23671644]\n",
      " [      -10172        -5992     18423483]\n",
      " [      -10125        -5945     17862444]\n",
      " [      -10044        -5864     16905915]\n",
      " [       -9849        -5669     14656980]\n",
      " [       -9639        -5459     12320100]\n",
      " [       -9564        -5384     11506875]\n",
      " [       -9421        -5241      9987500]\n",
      " [       -9251        -5071      8234460]\n",
      " [       -9132        -4952      7041723]\n",
      " [       -9089        -4909      6617700]\n",
      " [       -8904        -4724      4835595]\n",
      " [       -8861        -4681      4431180]\n",
      " [       -8809        -4629      3947060]\n",
      " [       -8731        -4551      3231020]\n",
      " [       -8481        -4301      1018020]\n",
      " [       -8469        -4289       914940]\n",
      " [       -8424        -4244       530955]\n",
      " [       -8401        -4221       336260]\n",
      " [       -8391        -4211       251940]\n",
      " [       -8387        -4207       218268]\n",
      " [       -8386        -4206       209855]\n",
      " [       -8367        -4187        50388]\n",
      " [       -8361        -4181          180]\n",
      " [       -8354        -4174       -58305]\n",
      " [       -8339        -4159      -183300]\n",
      " [       -8315        -4135      -382356]\n",
      " [       -8314        -4134      -390625]\n",
      " [       -8289        -4109      -596700]\n",
      " [       -8239        -4059     -1005100]\n",
      " [       -8198        -4018     -1336257]\n",
      " [       -8171        -3991     -1552500]\n",
      " [       -8129        -3949     -1885980]\n",
      " [       -8010        -3830     -2811681]\n",
      " [       -7964        -3784     -3161925]\n",
      " [       -7949        -3769     -3275220]\n",
      " [       -7871        -3691     -3857100]\n",
      " [       -7847        -3667     -4033692]\n",
      " [       -7821        -3641     -4223700]\n",
      " [       -7721        -3541     -4941900]\n",
      " [       -7541        -3361     -6184260]\n",
      " [       -7527        -3347     -6278172]\n",
      " [       -7398        -3218     -7125057]\n",
      " [       -6939        -2759     -9868500]\n",
      " [       -6929        -2749     -9923580]\n",
      " [       -6011        -1831    -14128020]\n",
      " [       -5921        -1741    -14449500]\n",
      " [       -5778        -1598    -14926977]\n",
      " [       -5076         -896    -16677765]\n",
      " [       -4974         -794    -16850145]\n",
      " [       -4814         -634    -17078625]\n",
      " [       -4536         -356    -17353845]\n",
      " [       -4491         -311    -17383860]\n",
      " [       -4439         -259    -17413500]\n",
      " [       -3921          259    -17413500]\n",
      " [       -3869          311    -17383860]\n",
      " [       -3824          356    -17353845]\n",
      " [       -3546          634    -17078625]\n",
      " [       -3386          794    -16850145]\n",
      " [       -3284          896    -16677765]\n",
      " [       -2582         1598    -14926977]\n",
      " [       -2439         1741    -14449500]\n",
      " [       -2349         1831    -14128020]\n",
      " [       -1431         2749     -9923580]\n",
      " [       -1421         2759     -9868500]\n",
      " [        -962         3218     -7125057]\n",
      " [        -833         3347     -6278172]\n",
      " [        -819         3361     -6184260]\n",
      " [        -639         3541     -4941900]\n",
      " [        -539         3641     -4223700]\n",
      " [        -513         3667     -4033692]\n",
      " [        -489         3691     -3857100]\n",
      " [        -411         3769     -3275220]\n",
      " [        -396         3784     -3161925]\n",
      " [        -350         3830     -2811681]\n",
      " [        -231         3949     -1885980]\n",
      " [        -189         3991     -1552500]\n",
      " [        -162         4018     -1336257]\n",
      " [        -121         4059     -1005100]\n",
      " [         -71         4109      -596700]\n",
      " [         -46         4134      -390625]\n",
      " [         -45         4135      -382356]\n",
      " [         -21         4159      -183300]\n",
      " [          -6         4174       -58305]\n",
      " [           1         4181          180]\n",
      " [           7         4187        50388]\n",
      " [          26         4206       209855]\n",
      " [          27         4207       218268]\n",
      " [          31         4211       251940]\n",
      " [          41         4221       336260]\n",
      " [          64         4244       530955]\n",
      " [         109         4289       914940]\n",
      " [         121         4301      1018020]\n",
      " [         371         4551      3231020]\n",
      " [         449         4629      3947060]\n",
      " [         501         4681      4431180]\n",
      " [         544         4724      4835595]\n",
      " [         729         4909      6617700]\n",
      " [         772         4952      7041723]\n",
      " [         891         5071      8234460]\n",
      " [        1061         5241      9987500]\n",
      " [        1204         5384     11506875]\n",
      " [        1279         5459     12320100]\n",
      " [        1489         5669     14656980]\n",
      " [        1684         5864     16905915]\n",
      " [        1765         5945     17862444]\n",
      " [        1812         5992     18423483]\n",
      " [        2235         6415     23671644]\n",
      " [        2251         6431     23877180]\n",
      " [        2349         6529     25147260]\n",
      " [        2659         6839     29291340]\n",
      " [        2800         6980     31239819]\n",
      " [        3223         7403     37323828]\n",
      " [        3261         7441     37887900]\n",
      " [        3645         7825     43750044]\n",
      " [        3881         8061     47499140]\n",
      " [        4111         8291     51260100]\n",
      " [        4814         8994     63411455]\n",
      " [        4986         9166     66534975]\n",
      " [        7079        11259    109284500]\n",
      " [        7311        11491    114562500]\n",
      " [        9286        13466    163852575]\n",
      " [        9379        13559    166365900]\n",
      " [       11863        16043    239897268]\n",
      " [       12669        16849    266408220]\n",
      " [       13954        18134    311361375]\n",
      " [       14561        18741    333744500]\n",
      " [       14661        18841    337502700]\n",
      " [       15579        19759    372937500]\n",
      " [       18532        22712    498354363]\n",
      " [       19936        24116    564100875]\n",
      " [       25225        29405    847173444]\n",
      " [       26629        30809    931713900]\n",
      " [       26816        30996    943271435]\n",
      " [       31699        35879   1269822060]\n",
      " [       38519        42699   1805724020]\n",
      " [       41579        45759   2076405500]\n",
      " [       41698        45878   2087310303]\n",
      " [       41997        46177   2114834748]\n",
      " [       47835        52015   2688079644]\n",
      " [       49329        53509   2845732500]\n",
      " [       54594        58774   3436902495]\n",
      " [       76354        80534   6468244575]\n",
      " [       76653        80833   6516493308]\n",
      " [       88951        93131   8655902580]\n",
      " [      154629       158809  25202817900]\n",
      " [      205561       209741  43973806500]\n",
      " [      209881       214061  45804631140]\n",
      " [      210399       214579  46026666660]\n",
      " [      330436       334616 111950386875]\n",
      " [      381817       385997 148976203428]\n",
      " [      382311       386491 149357812500]]\n",
      "\n",
      "Smooth set of primes B:\n",
      "\n",
      "[-1, 2, 3, 5, 13, 17, 19, 23, 43, 47]\n",
      "\n",
      "Matrix of powers of each prime in B:\n",
      "\n",
      "[[0 2 2 ... 0 1 0]\n",
      " [0 2 6 ... 3 0 0]\n",
      " [0 0 3 ... 1 0 1]\n",
      " ...\n",
      " [0 0 3 ... 1 0 1]\n",
      " [0 2 6 ... 3 0 0]\n",
      " [0 2 2 ... 0 1 0]]\n",
      "\n",
      "At most 100 factors of 17480581:\n",
      "\n",
      "[1949, 1949, 1949, 1949, 1949, 1949, 1949, 1949, 1949, 1949, 1949, 1949, 1949, 1949, 1949, 1949, 1949, 1949, 1949, 1949, 1949, 1949, 1949, 1949, 1949, 1949, 1949, 1949, 1949, 1949, 1949, 1949, 1949, 1949, 1949, 1949, 1949, 1949, 1949, 1949, 1949, 1949, 1949, 1949, 1949, 1949, 1949, 1949, 1949, 1949, 1949, 1949, 1949, 1949, 1949, 1949, 1949, 1949, 1949, 1949, 1949, 1949, 1949, 1949, 1949, 1949, 1949, 1949, 1949, 1949, 1949, 1949, 1949, 1949, 1949, 1949, 1949, 1949, 1949, 1949, 1949, 1949, 1949, 1949, 1949, 1949, 1949, 1949, 1949, 1949, 1949, 1949, 1949, 1949, 1949, 1949, 1949, 1949, 1949, 1949]\n"
     ]
    }
   ],
   "source": [
    "n = 17480581  # number to be factorised, 17480581 = 1949 * 8969\n",
    "bound = 100  # bound of factors to search/combinations to try\n",
    "k = int(np.ceil(np.log10(n)) + 1)  # number of primes we will use in the B set\n",
    "t = int(np.floor(np.sqrt(n)))  # number t the integer part of the square root of n\n",
    "B = Bset(k, n)\n",
    "X = []\n",
    "yx = []\n",
    "xplust = []\n",
    "FactorPowers = []  # list of lists with the powers of factors\n",
    "for x in range(-500000, 500000):  # choose a (small) range to look for values of x then get values of y(x) for which y(x) is B-smooth\n",
    "    if Bfactors((x + t) ** 2 - n, B):\n",
    "        X.append(x)\n",
    "        xplust.append(x + t)\n",
    "        yx.append((x + t) ** 2 - n)\n",
    "        FactorPowers.append(Bfactors((x + t) ** 2 - n, B))\n",
    "xyx = np.stack([X, xplust, yx], axis = -1)\n",
    "factorpowersmatrix = np.stack(FactorPowers)\n",
    "print(f\"Matrix with columns x, x + t where t is floor(sqrt(n)), and y(x) = (x + t)^2 - n:\\n\\n{xyx}\\n\")\n",
    "print(f\"Smooth set of primes B:\\n\\n{B}\\n\")\n",
    "print(f\"Matrix of powers of each prime in B:\\n\\n{factorpowersmatrix}\\n\")\n",
    "print(f\"At most {bound} factors of {n}:\\n\\n{searchgcds(n, FactorPowers, xplust, B, bound)}\")"
   ]
  },
  {
   "cell_type": "code",
   "execution_count": null,
   "metadata": {},
   "outputs": [],
   "source": []
  }
 ],
 "metadata": {
  "kernelspec": {
   "display_name": "Python 3",
   "language": "python",
   "name": "python3"
  },
  "language_info": {
   "codemirror_mode": {
    "name": "ipython",
    "version": 3
   },
   "file_extension": ".py",
   "mimetype": "text/x-python",
   "name": "python",
   "nbconvert_exporter": "python",
   "pygments_lexer": "ipython3",
   "version": "3.13.0"
  }
 },
 "nbformat": 4,
 "nbformat_minor": 4
}
