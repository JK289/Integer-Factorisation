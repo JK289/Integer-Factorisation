{
 "cells": [
  {
   "cell_type": "code",
   "execution_count": 161,
   "metadata": {},
   "outputs": [],
   "source": [
    "import numpy as np"
   ]
  },
  {
   "cell_type": "markdown",
   "metadata": {},
   "source": [
    "Factorising n we look for polynomial P and number m such that P(m) = 0 mod N. This approach takes the numbers close to a*N for integer a and looks for numbers that are a power of some integer. We aim to look for polynomials of degree 3 or 4."
   ]
  },
  {
   "cell_type": "code",
   "execution_count": 162,
   "metadata": {},
   "outputs": [],
   "source": [
    "def check_pow_34(a):  #  returns r for which q^r = a for some q if r is 3, 4 or 5\n",
    "    for k in range(3, 4):\n",
    "        i = 1\n",
    "        while i ** k < a:\n",
    "            i = i + 1\n",
    "        if i ** k == a:\n",
    "            return [i, k]\n",
    "    return 0"
   ]
  },
  {
   "cell_type": "code",
   "execution_count": 163,
   "metadata": {},
   "outputs": [],
   "source": [
    "def init_poly(n):\n",
    "    for a in range(2, int(np.floor(n/2))):\n",
    "        for t in range(a * n - 10, a * n + 11):\n",
    "            if check_pow_34(t) != 0:\n",
    "                return [check_pow_34(t)[0], check_pow_34(t)[1], a * n - t]  #  returns [m, degree of polynomial, free term of polynomial]\n",
    "    return 0"
   ]
  },
  {
   "cell_type": "code",
   "execution_count": 164,
   "metadata": {},
   "outputs": [
    {
     "name": "stdout",
     "output_type": "stream",
     "text": [
      "[11, 3, -8]\n",
      "[32, 3, -2]\n",
      "[194, 3, -2]\n"
     ]
    }
   ],
   "source": [
    "print(init_poly(441))\n",
    "print(init_poly(2 ** 14 - 1))\n",
    "print(init_poly(89*113))"
   ]
  },
  {
   "cell_type": "markdown",
   "metadata": {},
   "source": [
    "Helpful functions: Legendre symbol, sieve prime test, set B of prime factors p with with n quadratic residue mod p and checking if a number is B-smooth, returning its prime powers from the B set."
   ]
  },
  {
   "cell_type": "code",
   "execution_count": 165,
   "metadata": {},
   "outputs": [],
   "source": [
    "def gcd(a, b):\n",
    "    while b:\n",
    "        a, b = b, a % b\n",
    "    return abs(a)\n",
    "\n",
    "def legendre(n, p): # legendre symbol (n/p)\n",
    "    if n % p == 0:\n",
    "        return 0\n",
    "    if n > p:\n",
    "        n = n % p\n",
    "    if n ** (int((p - 1) / 2)) % p == 1:\n",
    "        return 1\n",
    "    else:\n",
    "        return -1\n",
    "\n",
    "\n",
    "def smsieve(n):  # prime check with classic sieving\n",
    "    if n in [1, 2]:\n",
    "        return 1\n",
    "    for i in range(2, int(np.floor(np.sqrt(n))) + 1):\n",
    "        if n % i == 0:\n",
    "            return 0\n",
    "    return 1\n",
    "\n",
    "def Bset(k, n):  # construct the set of the first k primes p that have (n/p) = +1 together with -1\n",
    "    B = [-1]\n",
    "    p = 2\n",
    "    while k:\n",
    "        while legendre(n, p) != 1 or smsieve(p) != 1:\n",
    "            p += 1\n",
    "        B.append(p)\n",
    "        p += 1\n",
    "        k = k - 1\n",
    "    return B\n",
    "\n",
    "def Bfactors(n, B):  # for number n and set of primes B with -1 returns the factorisation and powers of n if n is\n",
    "                     # B-smooth and 0 if n is not B-smooth\n",
    "    if n < 0:\n",
    "        basepowers = [1]\n",
    "        n = int(n * -1)\n",
    "    else:\n",
    "        basepowers = [0]\n",
    "    B = B[1:]\n",
    "    for prime in B:\n",
    "        prime_power = 0\n",
    "        while n % prime == 0:\n",
    "            n = int(n / prime)\n",
    "            prime_power += 1\n",
    "        basepowers.append(prime_power)\n",
    "    if n == 1:\n",
    "        return basepowers\n",
    "    else:\n",
    "        return 0"
   ]
  },
  {
   "cell_type": "code",
   "execution_count": 166,
   "metadata": {},
   "outputs": [],
   "source": [
    "def abm_table(m, B, limit):\n",
    "    table = []\n",
    "    for a in range(-1 * limit, limit + 1):\n",
    "        for b in range(-1 * limit, limit + 1):\n",
    "            if a - b * m != 0 and Bfactors(a - b * m, B) != 0:\n",
    "                table.append([a, b, a - b * m, Bfactors(a - b * m, B)])\n",
    "    return table\n"
   ]
  },
  {
   "cell_type": "markdown",
   "metadata": {},
   "source": [
    "Define norm in field with roots of polynomial x^3 + t and x^4 + t"
   ]
  },
  {
   "cell_type": "code",
   "execution_count": 167,
   "metadata": {},
   "outputs": [],
   "source": [
    "def N(a, b, t, deg):\n",
    "    if deg == 3:\n",
    "        return a ** 3 + t * b ** 3 - 3 * a * b ** 2\n",
    "    if deg == 4:\n",
    "        return a ** 4 + t * b ** 4 + 2 * a ** 2 * b ** 2"
   ]
  },
  {
   "cell_type": "markdown",
   "metadata": {},
   "source": [
    "Add the factorisation of the norm"
   ]
  },
  {
   "cell_type": "code",
   "execution_count": 168,
   "metadata": {},
   "outputs": [],
   "source": [
    "def add_algebraic(table, deg, t, B):\n",
    "    final_table = []\n",
    "    for row in table:\n",
    "        alg = N(row[0], row[1], t, deg)\n",
    "        if Bfactors(alg, B) != 0:\n",
    "            final_table.append([row[2], alg, Bfactors(alg, B)])\n",
    "    return final_table\n",
    "\n",
    "def split_table(table):   #  split to calculate u and v\n",
    "    us = []\n",
    "    vs = []\n",
    "    fac = []\n",
    "    for row in table:\n",
    "        us.append(row[0])\n",
    "        vs.append(row[1])\n",
    "        fac.append(row[2])\n",
    "    return [us, vs, fac]"
   ]
  },
  {
   "cell_type": "markdown",
   "metadata": {},
   "source": [
    "Functions to help us calculate products u and v and determine which rows are linearly dependent mod 2"
   ]
  },
  {
   "cell_type": "code",
   "execution_count": 169,
   "metadata": {},
   "outputs": [],
   "source": [
    "def partitions(l, d):\n",
    "    part = []\n",
    "    d = f\"{d:0{len(l)}b}\"\n",
    "    for i in range(len(d)):\n",
    "        if d[i] == \"1\":\n",
    "            part.append(l[i])\n",
    "    return part\n",
    "\n",
    "def mult(A, d):\n",
    "    mult = 1\n",
    "    d = f\"{d:0{len(A)}b}\"\n",
    "    for i in range(len(d)):\n",
    "        if d[i] == \"1\":\n",
    "            mult = mult * A[i]\n",
    "    return mult\n",
    "\n",
    "def testifeven(l, B):  #  l is list of lists, B is set of primes with -1\n",
    "    for i in range(len(B)):\n",
    "        sumcol = 0\n",
    "        for j in range(len(l)):\n",
    "            sumcol += l[j][i]\n",
    "        if sumcol % 2 != 0:\n",
    "            return 0\n",
    "    return 1"
   ]
  },
  {
   "cell_type": "code",
   "execution_count": 170,
   "metadata": {},
   "outputs": [],
   "source": [
    "def sieve(us, vs, fac, B, n):\n",
    "    for d in range(2 ** len(us)):\n",
    "        if len(partitions(fac, d)) >= 2 and testifeven(partitions(fac, d), B) == 1:\n",
    "            u = mult(us, d)\n",
    "            v = mult(vs, d)\n",
    "            if gcd(u - v, n) > 1:\n",
    "                return gcd(u - v, n)\n",
    "            if gcd(u + v, n) > 1:\n",
    "                return gcd(u + v, n)\n",
    "    return 0"
   ]
  },
  {
   "cell_type": "code",
   "execution_count": 171,
   "metadata": {},
   "outputs": [],
   "source": [
    "def NFS(n, limit, k):\n",
    "    pol = init_poly(n)\n",
    "    m = pol[0]\n",
    "    deg = pol[1]\n",
    "    t = pol[2]\n",
    "    B = Bset(k, n)\n",
    "    table = abm_table(m, B, limit)\n",
    "    table = add_algebraic(table, deg, t, B)\n",
    "    us = split_table(table)[0]\n",
    "    vs = split_table(table)[1]\n",
    "    fac = split_table(table)[2]\n",
    "    if sieve(us, vs, fac, B, n) == 0:\n",
    "        return \"no factors found, try larger limit, k primes base B\"\n",
    "    else:\n",
    "        return f'a factor of {n} is {sieve(us, vs, fac, B, n)}'"
   ]
  },
  {
   "cell_type": "code",
   "execution_count": 180,
   "metadata": {},
   "outputs": [
    {
     "name": "stdout",
     "output_type": "stream",
     "text": [
      "a factor of 1152921504606846977 is 17\n"
     ]
    }
   ],
   "source": [
    "print(NFS(2 ** 60 + 1, 15, 10))"
   ]
  }
 ],
 "metadata": {
  "kernelspec": {
   "display_name": "Python 3",
   "language": "python",
   "name": "python3"
  },
  "language_info": {
   "codemirror_mode": {
    "name": "ipython",
    "version": 3
   },
   "file_extension": ".py",
   "mimetype": "text/x-python",
   "name": "python",
   "nbconvert_exporter": "python",
   "pygments_lexer": "ipython3",
   "version": "3.13.0"
  }
 },
 "nbformat": 4,
 "nbformat_minor": 2
}
