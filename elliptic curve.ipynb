{
 "cells": [
  {
   "cell_type": "code",
   "execution_count": 362,
   "metadata": {
    "trusted": true
   },
   "outputs": [],
   "source": [
    "import numpy as np\n",
    "import math"
   ]
  },
  {
   "cell_type": "code",
   "execution_count": 363,
   "metadata": {
    "trusted": true
   },
   "outputs": [],
   "source": [
    "def check_on_curve(curve, x, y):  #  curve modulo n defined by a, b and modulo n\n",
    "    if x == \"inf\" and y == \"inf\":  #  point at infinity is always in the group\n",
    "        return 1\n",
    "    if (y ** 2) % curve[2] == (x ** 3 + curve[0] * x + curve[1]) % curve[2]:\n",
    "        return 1\n",
    "    return 0"
   ]
  },
  {
   "cell_type": "code",
   "execution_count": 364,
   "metadata": {
    "trusted": true
   },
   "outputs": [
    {
     "name": "stdout",
     "output_type": "stream",
     "text": [
      "0\n",
      "1\n"
     ]
    }
   ],
   "source": [
    "c = [5 , -5, 41]  # curve that has a = 5, b = -5 and is mod 41\n",
    "print(check_on_curve(c, 0, 0))\n",
    "print(check_on_curve(c, 1, 1))"
   ]
  },
  {
   "cell_type": "code",
   "execution_count": 365,
   "metadata": {
    "trusted": true
   },
   "outputs": [],
   "source": [
    "def inverse_mod_n(a, n):\n",
    "    if np.gcd(a, n) != 1:\n",
    "        return 0  # return 0 if no inverse is possible i.e the gcd \n",
    "    return pow(a, -1, n)"
   ]
  },
  {
   "cell_type": "code",
   "execution_count": 366,
   "metadata": {
    "trusted": true
   },
   "outputs": [
    {
     "name": "stdout",
     "output_type": "stream",
     "text": [
      "2359\n",
      "5\n",
      "0\n",
      "3\n"
     ]
    }
   ],
   "source": [
    "print(inverse_mod_n(1801, 2713))\n",
    "print(inverse_mod_n(3, 7))\n",
    "print(inverse_mod_n(14, 35))\n",
    "print(inverse_mod_n(-3, 5))"
   ]
  },
  {
   "cell_type": "code",
   "execution_count": 367,
   "metadata": {
    "trusted": true
   },
   "outputs": [],
   "source": [
    "def add_on_curve(curve, x1, y1, x2, y2):  #  curve[0] is a, curve[1] is b and curve[2] is n\n",
    "    if check_on_curve(curve, x1, y1) == False or check_on_curve(curve, x2, y2) == False:\n",
    "        return \"error, one of the points is not on the curve\"\n",
    "    if -1 * y1 == y2 and x1 == x2:\n",
    "        return [\"inf\", \"inf\"]  #  if we add P(x, y) to P(x, -y) we obtain the point at infinity\n",
    "    if x1 == \"inf\" and y1 == \"inf\":\n",
    "        return [x2, y2]\n",
    "    if x2 == \"inf\" and y2 == \"inf\":  #  the point at infinity is the identity element to addition on curve\n",
    "        return [x1, y1]\n",
    "\n",
    "    n = curve[2]\n",
    "    inv = inverse_mod_n(x2 - x1, n)\n",
    "    if inv == 0:  #  the inverse fails, so the gcd must be > 1 and produce some common factor\n",
    "        return \"no_inv_for_add_check_gcd\" ###########\n",
    "    lam = ((y2 - y1) * inv) % n\n",
    "    x3 = (lam ** 2 - x1 - x2) % n\n",
    "    y3 = (lam * (x1 - x3) - y1) % n\n",
    "    if n < 2 * y3:\n",
    "        y3 = y3 - n  #  use the residue class with smallest absolute value to simplify the calculation for example 32 mod 41 is -9 mod 41\n",
    "    return [x3, y3]"
   ]
  },
  {
   "cell_type": "code",
   "execution_count": 368,
   "metadata": {
    "trusted": true
   },
   "outputs": [
    {
     "name": "stdout",
     "output_type": "stream",
     "text": [
      "[17, -14]\n",
      "['inf', 'inf']\n",
      "error, one of the points is not on the curve\n",
      "[3, 18]\n"
     ]
    }
   ],
   "source": [
    "print(add_on_curve(c, 1, 1, 3, 18))\n",
    "print(add_on_curve(c, 1, 1, 1, -1))\n",
    "print(add_on_curve(c, 0, 0, 3, 18))\n",
    "print(add_on_curve(c, \"inf\", \"inf\", 3, 18))\n"
   ]
  },
  {
   "cell_type": "code",
   "execution_count": 369,
   "metadata": {
    "trusted": true
   },
   "outputs": [],
   "source": [
    "def double_on_curve(curve, x, y):\n",
    "    if check_on_curve(curve, x, y) == 0:\n",
    "        return \"error, the point is not on curve\"\n",
    "    a = curve[0]\n",
    "    n = curve[2]\n",
    "    inv2y = inverse_mod_n(int(2 * y), n)\n",
    "    if inv2y == 0:\n",
    "        return \"no_inv_for_double_check_gcd\"\n",
    "    lam = (int((3 * (x ** 2) + a) * inv2y)) % n\n",
    "    xf = (lam ** 2 - 2 * x) % n\n",
    "    yf = (lam * (x - xf) - y) % n\n",
    "    if n < 2 * yf:\n",
    "        yf = yf - n\n",
    "    return [xf, yf]"
   ]
  },
  {
   "cell_type": "code",
   "execution_count": 370,
   "metadata": {
    "trusted": true
   },
   "outputs": [
    {
     "name": "stdout",
     "output_type": "stream",
     "text": [
      "[12, 15]\n"
     ]
    }
   ],
   "source": [
    "print(double_on_curve(c, 3, 18))"
   ]
  },
  {
   "cell_type": "code",
   "execution_count": 371,
   "metadata": {
    "trusted": true
   },
   "outputs": [],
   "source": [
    "def scale_on_curve(curve, x, y, k):  #  find point kP where P(x, y) on curve mod n\n",
    "    n = curve[2]\n",
    "    bink = f'{k:00b}'\n",
    "    bink = bink[::-1]  #  turn into binary number to perform modular doubling\n",
    "    to_double = [x, y]  # start from P, then double it and at each step add the results to get kP\n",
    "    found_first_power = 0 # found first power of 2 multiple of to add up to k\n",
    "    \n",
    "\n",
    "    for i in range(1, len(bink)):\n",
    "        if int(bink[i]) == 1:\n",
    "            if found_first_power == 0:\n",
    "                kp = to_double  # initialise the list of powers to be considered\n",
    "                found_first_power = 1\n",
    "            else:\n",
    "                if add_on_curve(curve, kp[0], kp[1], to_double[0], to_double[1]) == \"no_inv_for_add_check_gcd\":  #  there is no inverse of x2 - x1 mod n so we take x2 - x1 as our candidate to compute gcd\n",
    "                    return (to_double[0] - kp[0]) % n\n",
    "                \n",
    "                kp = add_on_curve(curve, kp[0], kp[1], to_double[0], to_double[1])\n",
    "\n",
    "        if double_on_curve(curve, to_double[0], to_double[1]) == \"no_inv_for_double_check_gcd\":  #  there is no inverse of 2 * y mod n in doubling so we choose 2 * y\n",
    "            return ( 2 * to_double[1]) % n\n",
    "        to_double = double_on_curve(curve, to_double[0], to_double[1])\n",
    "    return -1\n",
    "\n",
    "    \n"
   ]
  },
  {
   "cell_type": "code",
   "execution_count": 372,
   "metadata": {
    "trusted": true
   },
   "outputs": [
    {
     "name": "stdout",
     "output_type": "stream",
     "text": [
      "input for gcd test: 287255\n",
      "a factor of 482431 is: 787\n",
      "\n",
      "input for gcd test: 94810373970521773\n",
      "a factor of 213190447698424387 is: 21319\n"
     ]
    }
   ],
   "source": [
    "a, b, n = 5, -5, 482431  #  a, b from the elliptic curve and the modulus i.e the number we want to factorise \n",
    "xp, yp = 1, 1  #  point P to scale\n",
    "k = math.factorial(6)  #  artitrary k times to scale P, good choices are highly composite numbers\n",
    "d = scale_on_curve([a, b, n], 1, 1, k)\n",
    "print(f'input for gcd test: {d}')\n",
    "print(f'a factor of {n} is: {np.gcd(d, n)}\\n')\n",
    "\n",
    "a, b, n = 5, -5, 1000003 * 9999991 * 21319 #  1000003, 9999991 and 21319 are prime\n",
    "xp, yp = 1, 1\n",
    "k = math.factorial(150)\n",
    "d = scale_on_curve([a, b, n], 1, 1, k)\n",
    "print(f'input for gcd test: {d}')\n",
    "print(f'a factor of {n} is: {np.gcd(d, n)}')"
   ]
  }
 ],
 "metadata": {
  "kernelspec": {
   "display_name": "Python 3",
   "language": "python",
   "name": "python3"
  },
  "language_info": {
   "codemirror_mode": {
    "name": "ipython",
    "version": 3
   },
   "file_extension": ".py",
   "mimetype": "text/x-python",
   "name": "python",
   "nbconvert_exporter": "python",
   "pygments_lexer": "ipython3",
   "version": "3.13.0"
  }
 },
 "nbformat": 4,
 "nbformat_minor": 4
}
